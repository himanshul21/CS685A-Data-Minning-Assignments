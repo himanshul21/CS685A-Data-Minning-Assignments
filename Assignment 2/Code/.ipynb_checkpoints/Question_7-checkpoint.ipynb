{
 "cells": [
  {
   "cell_type": "markdown",
   "id": "7c9ae14a",
   "metadata": {},
   "source": [
    "# 7.a"
   ]
  },
  {
   "cell_type": "code",
   "execution_count": 1,
   "id": "70f78c6f",
   "metadata": {},
   "outputs": [],
   "source": [
    "#Importing the libraries\n",
    "import numpy as np\n",
    "import pandas as pd"
   ]
  },
  {
   "cell_type": "code",
   "execution_count": 2,
   "id": "d9e35a63",
   "metadata": {},
   "outputs": [],
   "source": [
    "#Loading the dataset and preprocessing\n",
    "df = pd.read_excel(\"../Dataset/Input_Dataset/DDW-C17-0100.XLSX\", header = [2])\n",
    "#Renaming the column name\n",
    "df = df.rename(columns = {\"State\" : \"State code\", \"Unnamed: 3\" : \"Language\", \"Unnamed: 4\" : \"Count\", \"State name\" : \"State\"})\n",
    "df = df.iloc[:, [0, 1, 3, 4]]\n",
    "#Droping the unimportant columns\n",
    "df.drop([0, 1, 2], axis = 0, inplace = True)\n",
    "df.dropna(axis=0, inplace=True)\n",
    "#Sorting the dataframe\n",
    "df.sort_values(by = \"Count\", inplace = True, ascending=False)\n",
    "df_main = df.copy()"
   ]
  },
  {
   "cell_type": "code",
   "execution_count": 3,
   "id": "8dde42da",
   "metadata": {},
   "outputs": [],
   "source": [
    "#Loading all the dataset and preprocessing\n",
    "for i in range(2, 36):\n",
    "    if i < 10:\n",
    "        file_path = r\"../Dataset/Input_Dataset/DDW-C17-0\" + str(i) + \"00.XLSX\"\n",
    "    else:\n",
    "        file_path = r\"../Dataset/Input_Dataset/DDW-C17-\" + str(i) + \"00.XLSX\"\n",
    "    df = pd.read_excel(file_path, header = [2])\n",
    "    #Renamin the column name\n",
    "    df = df.rename(columns = {\"State\" : \"State code\", \"Unnamed: 3\" : \"Language\", \"Unnamed: 4\" : \"Count\", \"State name\" : \"State\"})\n",
    "    df = df.iloc[:, [0, 1, 3, 4]]\n",
    "    #Droping the unimportant columns\n",
    "    df.drop([0, 1, 2], axis = 0, inplace = True)\n",
    "    df.dropna(axis=0, inplace=True)\n",
    "    df_main = df_main.append(df)"
   ]
  },
  {
   "cell_type": "code",
   "execution_count": 4,
   "id": "e15d15bc",
   "metadata": {},
   "outputs": [],
   "source": [
    "#Initializing the regions\n",
    "regions = {\"North\" :[\"PUNJAB\", \"HIMACHAL PRADESH\", \"HARYANA\", \"NCT OF DELHI\", \"CHANDIGARH\", \"UTTARAKHAND\", \"JAMMU & KASHMIR\"],\n",
    "          \"West\": [\"RAJASTHAN\", \"GUJARAT\", \"MAHARASHTRA\", \"GOA\", \"DAMAN & DIU\", \"DADRA & NAGAR HAVELI\"], \n",
    "          \"Central\" : [\"UTTAR PRADESH\", \"MADHYA PRADESH\", \"CHHATTISGARH\"], \n",
    "          \"East\" : [\"BIHAR\", \"WEST BENGAL\", \"ODISHA\", \"JHARKHAND\"], \n",
    "          \"South\" : [\"KARNATAKA\", \"PUDUCHERRY\", \"LAKSHADWEEP\", \"KERALA\", \"TAMIL NADU\", \"ANDHRA PRADESH\"], \n",
    "          \"North-East\" : [\"ASSAM\", \"SIKKIM\", \"MEGHALAYA\", \"TRIPURA\", \"ARUNACHAL PRADESH\", \"MANIPUR\", \"NAGALAND\", \"MIZORAM\", \"ANDAMAN & NICOBAR ISLANDS\"]}"
   ]
  },
  {
   "cell_type": "code",
   "execution_count": 5,
   "id": "4d064dab",
   "metadata": {},
   "outputs": [],
   "source": [
    "df_main[\"region\"] = \"\""
   ]
  },
  {
   "cell_type": "code",
   "execution_count": 6,
   "id": "01590cc0",
   "metadata": {},
   "outputs": [],
   "source": [
    "#Defining the regions to each state\n",
    "for key, value in regions.items():\n",
    "    df_main.loc[df_main.State.isin(value), \"region\"] = key"
   ]
  },
  {
   "cell_type": "code",
   "execution_count": 7,
   "id": "74f67764",
   "metadata": {},
   "outputs": [],
   "source": [
    "#Droping the unimportant columns\n",
    "df_main.drop([\"State code\", \"State\"], axis=1, inplace=True)"
   ]
  },
  {
   "cell_type": "code",
   "execution_count": 8,
   "id": "401058d8",
   "metadata": {},
   "outputs": [],
   "source": [
    "#Making groupby using region and language\n",
    "gb = df_main.groupby(by = [\"region\", \"Language\"]).sum()"
   ]
  },
  {
   "cell_type": "code",
   "execution_count": 9,
   "id": "09cfb2e8",
   "metadata": {},
   "outputs": [
    {
     "data": {
      "text/html": [
       "<div>\n",
       "<style scoped>\n",
       "    .dataframe tbody tr th:only-of-type {\n",
       "        vertical-align: middle;\n",
       "    }\n",
       "\n",
       "    .dataframe tbody tr th {\n",
       "        vertical-align: top;\n",
       "    }\n",
       "\n",
       "    .dataframe thead th {\n",
       "        text-align: right;\n",
       "    }\n",
       "</style>\n",
       "<table border=\"1\" class=\"dataframe\">\n",
       "  <thead>\n",
       "    <tr style=\"text-align: right;\">\n",
       "      <th></th>\n",
       "      <th></th>\n",
       "      <th>Count</th>\n",
       "    </tr>\n",
       "    <tr>\n",
       "      <th>region</th>\n",
       "      <th>Language</th>\n",
       "      <th></th>\n",
       "    </tr>\n",
       "  </thead>\n",
       "  <tbody>\n",
       "    <tr>\n",
       "      <th rowspan=\"5\" valign=\"top\">Central</th>\n",
       "      <th>ADI</th>\n",
       "      <td>510</td>\n",
       "    </tr>\n",
       "    <tr>\n",
       "      <th>AFGHANI/KABULI/PASHTO</th>\n",
       "      <td>286</td>\n",
       "    </tr>\n",
       "    <tr>\n",
       "      <th>ANAL</th>\n",
       "      <td>22</td>\n",
       "    </tr>\n",
       "    <tr>\n",
       "      <th>ANGAMI</th>\n",
       "      <td>46</td>\n",
       "    </tr>\n",
       "    <tr>\n",
       "      <th>AO</th>\n",
       "      <td>56</td>\n",
       "    </tr>\n",
       "    <tr>\n",
       "      <th>...</th>\n",
       "      <th>...</th>\n",
       "      <td>...</td>\n",
       "    </tr>\n",
       "    <tr>\n",
       "      <th rowspan=\"5\" valign=\"top\">West</th>\n",
       "      <th>WANCHO</th>\n",
       "      <td>4</td>\n",
       "    </tr>\n",
       "    <tr>\n",
       "      <th>YIMCHUNGRE</th>\n",
       "      <td>29</td>\n",
       "    </tr>\n",
       "    <tr>\n",
       "      <th>ZELIANG</th>\n",
       "      <td>3</td>\n",
       "    </tr>\n",
       "    <tr>\n",
       "      <th>ZEMI</th>\n",
       "      <td>72</td>\n",
       "    </tr>\n",
       "    <tr>\n",
       "      <th>ZOU</th>\n",
       "      <td>9</td>\n",
       "    </tr>\n",
       "  </tbody>\n",
       "</table>\n",
       "<p>707 rows × 1 columns</p>\n",
       "</div>"
      ],
      "text/plain": [
       "                                Count\n",
       "region  Language                     \n",
       "Central ADI                       510\n",
       "        AFGHANI/KABULI/PASHTO     286\n",
       "        ANAL                       22\n",
       "        ANGAMI                     46\n",
       "        AO                         56\n",
       "...                               ...\n",
       "West    WANCHO                      4\n",
       "        YIMCHUNGRE                 29\n",
       "        ZELIANG                     3\n",
       "        ZEMI                       72\n",
       "        ZOU                         9\n",
       "\n",
       "[707 rows x 1 columns]"
      ]
     },
     "execution_count": 9,
     "metadata": {},
     "output_type": "execute_result"
    }
   ],
   "source": [
    "gb"
   ]
  },
  {
   "cell_type": "code",
   "execution_count": 10,
   "id": "dd991ff8",
   "metadata": {},
   "outputs": [],
   "source": [
    "#Sorting the dataframe based on count\n",
    "gb.sort_values(by = \"Count\", inplace=True, ascending=False)"
   ]
  },
  {
   "cell_type": "code",
   "execution_count": 11,
   "id": "5ebc836a",
   "metadata": {},
   "outputs": [],
   "source": [
    "#finding the top 3 languages for each region\n",
    "main_list = []\n",
    "for key in regions.keys():\n",
    "    temp_list = []\n",
    "    temp_list = list(gb.loc[key].index)[:3]\n",
    "    temp_list.insert(0, key)\n",
    "    main_list.append(temp_list)"
   ]
  },
  {
   "cell_type": "code",
   "execution_count": 12,
   "id": "792812b7",
   "metadata": {},
   "outputs": [],
   "source": [
    "#Making the final dataframe and sorting it based on first column\n",
    "df_final = pd.DataFrame(main_list, columns=[\"region\", \"language-1\", \"language-2\", \"language-3\"])\n",
    "df_final.sort_values(\"region\", inplace=True)"
   ]
  },
  {
   "cell_type": "code",
   "execution_count": 13,
   "id": "33f37891",
   "metadata": {},
   "outputs": [
    {
     "data": {
      "text/html": [
       "<div>\n",
       "<style scoped>\n",
       "    .dataframe tbody tr th:only-of-type {\n",
       "        vertical-align: middle;\n",
       "    }\n",
       "\n",
       "    .dataframe tbody tr th {\n",
       "        vertical-align: top;\n",
       "    }\n",
       "\n",
       "    .dataframe thead th {\n",
       "        text-align: right;\n",
       "    }\n",
       "</style>\n",
       "<table border=\"1\" class=\"dataframe\">\n",
       "  <thead>\n",
       "    <tr style=\"text-align: right;\">\n",
       "      <th></th>\n",
       "      <th>region</th>\n",
       "      <th>language-1</th>\n",
       "      <th>language-2</th>\n",
       "      <th>language-3</th>\n",
       "    </tr>\n",
       "  </thead>\n",
       "  <tbody>\n",
       "    <tr>\n",
       "      <th>2</th>\n",
       "      <td>Central</td>\n",
       "      <td>HINDI</td>\n",
       "      <td>URDU</td>\n",
       "      <td>BHILI/BHILODI</td>\n",
       "    </tr>\n",
       "    <tr>\n",
       "      <th>3</th>\n",
       "      <td>East</td>\n",
       "      <td>HINDI</td>\n",
       "      <td>BENGALI</td>\n",
       "      <td>ODIA</td>\n",
       "    </tr>\n",
       "    <tr>\n",
       "      <th>0</th>\n",
       "      <td>North</td>\n",
       "      <td>HINDI</td>\n",
       "      <td>PUNJABI</td>\n",
       "      <td>KASHMIRI</td>\n",
       "    </tr>\n",
       "    <tr>\n",
       "      <th>5</th>\n",
       "      <td>North-East</td>\n",
       "      <td>ASSAMESE</td>\n",
       "      <td>BENGALI</td>\n",
       "      <td>HINDI</td>\n",
       "    </tr>\n",
       "    <tr>\n",
       "      <th>4</th>\n",
       "      <td>South</td>\n",
       "      <td>TELUGU</td>\n",
       "      <td>TAMIL</td>\n",
       "      <td>KANNADA</td>\n",
       "    </tr>\n",
       "    <tr>\n",
       "      <th>1</th>\n",
       "      <td>West</td>\n",
       "      <td>HINDI</td>\n",
       "      <td>MARATHI</td>\n",
       "      <td>GUJARATI</td>\n",
       "    </tr>\n",
       "  </tbody>\n",
       "</table>\n",
       "</div>"
      ],
      "text/plain": [
       "       region language-1 language-2      language-3\n",
       "2     Central     HINDI        URDU  BHILI/BHILODI \n",
       "3        East     HINDI    BENGALI            ODIA \n",
       "0       North     HINDI    PUNJABI        KASHMIRI \n",
       "5  North-East   ASSAMESE   BENGALI           HINDI \n",
       "4       South    TELUGU      TAMIL          KANNADA\n",
       "1        West     HINDI    MARATHI         GUJARATI"
      ]
     },
     "execution_count": 13,
     "metadata": {},
     "output_type": "execute_result"
    }
   ],
   "source": [
    "df_final"
   ]
  },
  {
   "cell_type": "code",
   "execution_count": 14,
   "id": "f7ec190b",
   "metadata": {},
   "outputs": [],
   "source": [
    "#Storing the final result\n",
    "df_final.to_csv(\"../Dataset/Output_Dataset/region-india-a.csv\", index=False)"
   ]
  },
  {
   "cell_type": "markdown",
   "id": "5070b10d",
   "metadata": {},
   "source": [
    "# 7.b"
   ]
  },
  {
   "cell_type": "code",
   "execution_count": 15,
   "id": "d93b5200",
   "metadata": {},
   "outputs": [],
   "source": [
    "#Loading the dataset and preprocessing\n",
    "df = pd.read_excel(\"../Dataset/Input_Dataset/DDW-C17-0100.XLSX\", header = [2])\n",
    "df = df.iloc[3:, [0, 1, 3, 4, 8, 9, 13, 14]]\n",
    "#Renaming the column name\n",
    "df.columns = [\"State Code\", \"Name\", \"Language1\", \"Count1\", \"Language2\", \"Count2\", \"Language3\", \"Count3\"]\n",
    "#Making the copy of original dataframe\n",
    "df_main = df.copy()"
   ]
  },
  {
   "cell_type": "code",
   "execution_count": 16,
   "id": "6f1ec790",
   "metadata": {},
   "outputs": [],
   "source": [
    "#Loading the remaining dataset and preprocessing\n",
    "for i in range(2, 36):\n",
    "    if i < 10:\n",
    "        file_path = r\"../Dataset/Input_Dataset/DDW-C17-0\" + str(i) + \"00.XLSX\"\n",
    "    else:\n",
    "        file_path = r\"../Dataset/Input_Dataset/DDW-C17-\" + str(i) + \"00.XLSX\"\n",
    "    df = pd.read_excel(file_path, header = [2])\n",
    "    df = df.iloc[3:, [0, 1, 3, 4, 8, 9, 13, 14]]\n",
    "    #Renaming the column name\n",
    "    df.columns = [\"State Code\", \"Name\", \"Language1\", \"Count1\", \"Language2\", \"Count2\", \"Language3\", \"Count3\"]\\\n",
    "    #Adding it to final dataset\n",
    "    df_main = df_main.append(df)"
   ]
  },
  {
   "cell_type": "code",
   "execution_count": 17,
   "id": "fc62c6ad",
   "metadata": {},
   "outputs": [],
   "source": [
    "df_main[\"region\"] = \"\""
   ]
  },
  {
   "cell_type": "code",
   "execution_count": 18,
   "id": "f39eb44c",
   "metadata": {},
   "outputs": [],
   "source": [
    "#Defining the region for each state\n",
    "for key, value in regions.items():\n",
    "    df_main.loc[df_main.Name.isin(value), \"region\"] = key"
   ]
  },
  {
   "cell_type": "code",
   "execution_count": 19,
   "id": "4eafe8b4",
   "metadata": {},
   "outputs": [],
   "source": [
    "#Droping the unimportant datset\n",
    "df_main.drop([\"State Code\", \"Name\"], axis=1, inplace=True)"
   ]
  },
  {
   "cell_type": "code",
   "execution_count": 20,
   "id": "b6cba9c4",
   "metadata": {},
   "outputs": [],
   "source": [
    "#Finding the unique language\n",
    "unique_language = set(list(df_main[\"Language1\"].unique())).union(set(list(df_main[\"Language2\"].unique()))).union(set(list(df_main[\"Language3\"].unique())))"
   ]
  },
  {
   "cell_type": "code",
   "execution_count": 21,
   "id": "37ec3d16",
   "metadata": {},
   "outputs": [],
   "source": [
    "#Creating a new dictonary\n",
    "dict = {\"Region\" : [],\n",
    "       \"Language\" : [], \n",
    "       \"Count\" : []}"
   ]
  },
  {
   "cell_type": "code",
   "execution_count": 22,
   "id": "398dc369",
   "metadata": {},
   "outputs": [],
   "source": [
    "#Calculating the total population speaking each language\n",
    "for st in regions.keys():\n",
    "    for lan in unique_language:\n",
    "        if lan == \"nan\":\n",
    "            continue\n",
    "        count = 0\n",
    "        #Adding the population who speak lan as first choice\n",
    "        count = count + np.sum(df_main[(df_main[\"region\"] == st) & (df_main[\"Language1\"] == lan)][\"Count1\"])\n",
    "        #Adding the population who speak lan as second choice\n",
    "        count = count + np.sum(df_main[(df_main[\"region\"] == st) & (df_main[\"Language2\"] == lan)][\"Count2\"])\n",
    "        #Adding the population who speak lan as thirsd choice\n",
    "        count = count + np.sum(df_main[(df_main[\"region\"] == st) & (df_main[\"Language3\"] == lan)][\"Count3\"])\n",
    "        if count == 0:\n",
    "            continue\n",
    "        dict[\"Region\"].append(st)\n",
    "        dict[\"Language\"].append(lan)\n",
    "        dict[\"Count\"].append(count)"
   ]
  },
  {
   "cell_type": "code",
   "execution_count": 23,
   "id": "e69fc135",
   "metadata": {},
   "outputs": [],
   "source": [
    "df_final = pd.DataFrame(dict)"
   ]
  },
  {
   "cell_type": "code",
   "execution_count": 24,
   "id": "d8a14a94",
   "metadata": {},
   "outputs": [],
   "source": [
    "#Finding the total number of population speaking particilar language in each region\n",
    "gb = df_final.groupby([\"Region\", \"Language\"]).sum()"
   ]
  },
  {
   "cell_type": "code",
   "execution_count": 25,
   "id": "bd9ed291",
   "metadata": {},
   "outputs": [],
   "source": [
    "gb.sort_values(by = \"Count\", inplace=True, ascending=False)"
   ]
  },
  {
   "cell_type": "code",
   "execution_count": 26,
   "id": "1de2d293",
   "metadata": {},
   "outputs": [],
   "source": [
    "#Finding the top 3 language for each region\n",
    "main_list = []\n",
    "for key in regions.keys():\n",
    "    temp_list = []\n",
    "    temp_list = list(gb.loc[key].index)[:3]\n",
    "    temp_list.insert(0, key)\n",
    "    main_list.append(temp_list)"
   ]
  },
  {
   "cell_type": "code",
   "execution_count": 27,
   "id": "2caa2253",
   "metadata": {},
   "outputs": [],
   "source": [
    "#Making the dataframe and sorting it\n",
    "df_final = pd.DataFrame(main_list, columns=[\"region\", \"language-1\", \"language-2\", \"language-3\"])\n",
    "df_final.sort_values(\"region\", inplace=True)"
   ]
  },
  {
   "cell_type": "code",
   "execution_count": 28,
   "id": "b1cf7afb",
   "metadata": {},
   "outputs": [
    {
     "data": {
      "text/html": [
       "<div>\n",
       "<style scoped>\n",
       "    .dataframe tbody tr th:only-of-type {\n",
       "        vertical-align: middle;\n",
       "    }\n",
       "\n",
       "    .dataframe tbody tr th {\n",
       "        vertical-align: top;\n",
       "    }\n",
       "\n",
       "    .dataframe thead th {\n",
       "        text-align: right;\n",
       "    }\n",
       "</style>\n",
       "<table border=\"1\" class=\"dataframe\">\n",
       "  <thead>\n",
       "    <tr style=\"text-align: right;\">\n",
       "      <th></th>\n",
       "      <th>region</th>\n",
       "      <th>language-1</th>\n",
       "      <th>language-2</th>\n",
       "      <th>language-3</th>\n",
       "    </tr>\n",
       "  </thead>\n",
       "  <tbody>\n",
       "    <tr>\n",
       "      <th>2</th>\n",
       "      <td>Central</td>\n",
       "      <td>HINDI</td>\n",
       "      <td>ENGLISH</td>\n",
       "      <td>URDU</td>\n",
       "    </tr>\n",
       "    <tr>\n",
       "      <th>3</th>\n",
       "      <td>East</td>\n",
       "      <td>HINDI</td>\n",
       "      <td>BENGALI</td>\n",
       "      <td>ODIA</td>\n",
       "    </tr>\n",
       "    <tr>\n",
       "      <th>0</th>\n",
       "      <td>North</td>\n",
       "      <td>HINDI</td>\n",
       "      <td>PUNJABI</td>\n",
       "      <td>ENGLISH</td>\n",
       "    </tr>\n",
       "    <tr>\n",
       "      <th>5</th>\n",
       "      <td>North-East</td>\n",
       "      <td>ASSAMESE</td>\n",
       "      <td>BENGALI</td>\n",
       "      <td>HINDI</td>\n",
       "    </tr>\n",
       "    <tr>\n",
       "      <th>4</th>\n",
       "      <td>South</td>\n",
       "      <td>TELUGU</td>\n",
       "      <td>TAMIL</td>\n",
       "      <td>KANNADA</td>\n",
       "    </tr>\n",
       "    <tr>\n",
       "      <th>1</th>\n",
       "      <td>West</td>\n",
       "      <td>HINDI</td>\n",
       "      <td>MARATHI</td>\n",
       "      <td>GUJARATI</td>\n",
       "    </tr>\n",
       "  </tbody>\n",
       "</table>\n",
       "</div>"
      ],
      "text/plain": [
       "       region language-1 language-2 language-3\n",
       "2     Central     HINDI    ENGLISH        URDU\n",
       "3        East     HINDI    BENGALI       ODIA \n",
       "0       North     HINDI    PUNJABI    ENGLISH \n",
       "5  North-East   ASSAMESE   BENGALI      HINDI \n",
       "4       South    TELUGU      TAMIL     KANNADA\n",
       "1        West     HINDI    MARATHI    GUJARATI"
      ]
     },
     "execution_count": 28,
     "metadata": {},
     "output_type": "execute_result"
    }
   ],
   "source": [
    "df_final"
   ]
  },
  {
   "cell_type": "code",
   "execution_count": 29,
   "id": "e02190f3",
   "metadata": {},
   "outputs": [],
   "source": [
    "#Storing the final result\n",
    "df_final.to_csv(\"../Dataset/Output_Dataset/region-india-b.csv\", index=False)"
   ]
  },
  {
   "cell_type": "code",
   "execution_count": null,
   "id": "7d786180",
   "metadata": {},
   "outputs": [],
   "source": []
  },
  {
   "cell_type": "code",
   "execution_count": null,
   "id": "09024352",
   "metadata": {},
   "outputs": [],
   "source": []
  },
  {
   "cell_type": "code",
   "execution_count": null,
   "id": "18f42a80",
   "metadata": {},
   "outputs": [],
   "source": []
  }
 ],
 "metadata": {
  "kernelspec": {
   "display_name": "Python 3",
   "language": "python",
   "name": "python3"
  },
  "language_info": {
   "codemirror_mode": {
    "name": "ipython",
    "version": 3
   },
   "file_extension": ".py",
   "mimetype": "text/x-python",
   "name": "python",
   "nbconvert_exporter": "python",
   "pygments_lexer": "ipython3",
   "version": "3.8.8"
  }
 },
 "nbformat": 4,
 "nbformat_minor": 5
}
