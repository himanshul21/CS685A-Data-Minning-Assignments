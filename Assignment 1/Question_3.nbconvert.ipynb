{
 "cells": [
  {
   "cell_type": "markdown",
   "metadata": {},
   "source": [
    "# Question 3"
   ]
  },
  {
   "cell_type": "markdown",
   "metadata": {},
   "source": [
    "**IMPORTANT** \n",
    "<br><br>\n",
    "Covid dataset is not consistent i.e., Given dataset store information in cummulative order but at some point it is not cummulative.<br><br>\n",
    "For example total confirmed case on date(i) = 50 and date(i+1) = 40.<br><br>\n",
    "To solve this problem I find all information for each day (info_date(i) = cum_info_date(i) - cum_info_date(i-1)). If difference is negative I assumed at that day no  new were cases found means storing 0."
   ]
  },
  {
   "cell_type": "markdown",
   "metadata": {},
   "source": [
    "Therefore summation of the info may not be equal to cummulative covid dataset due to it's inconsistency."
   ]
  },
  {
   "cell_type": "markdown",
   "metadata": {},
   "source": [
    "### Importing Libraries"
   ]
  },
  {
   "cell_type": "code",
   "execution_count": 1,
   "metadata": {},
   "outputs": [],
   "source": [
    "import numpy as np\n",
    "import pandas as pd\n",
    "import json\n",
    "from datetime import datetime\n",
    "import json"
   ]
  },
  {
   "cell_type": "markdown",
   "metadata": {},
   "source": [
    "Importing **state_to_code_dict.json** for using state_code and District_Key from vaccination dataset created in **Question 1**"
   ]
  },
  {
   "cell_type": "code",
   "execution_count": 2,
   "metadata": {},
   "outputs": [],
   "source": [
    "f = open(\"Dataset/Additional Files/state_to_code_dict.json\")\n",
    "state_code = json.load(f)\n",
    "state_code[\"Andaman and Nicobar Islands\"] = \"AN\""
   ]
  },
  {
   "cell_type": "markdown",
   "metadata": {},
   "source": [
    "### Importing Covid Dataset"
   ]
  },
  {
   "cell_type": "code",
   "execution_count": 3,
   "metadata": {},
   "outputs": [],
   "source": [
    "df_covid = pd.read_csv(\"Dataset/Input Files/districts.csv\" )\n",
    "df_covid = df_covid[df_covid.Date.between('2020-03-15', '2021-08-14')]\n",
    "#List of unwanted district from covid dataset\n",
    "unwanted_districts1 = set([\"Unknown\", \"Airport Quarantine\", \"BSF Camp\", \"Evacuees\", \"Capital Complex\", \"Foreign Evacuees\", \"Italians\", \"Other Region\",\n",
    "                                         \"Other State\", \"Others\", \"Railway Quarantine\", \"State Pool\"])\n",
    "\n",
    "#Droping unwanted list from the covid dataset\n",
    "for dis in unwanted_districts1:\n",
    "    df_covid = df_covid[df_covid.District != dis]\n",
    "    \n",
    "#Creating new columns for State_Code and District Key\n",
    "df_covid[\"State_Code\"] = \"\"\n",
    "df_covid[\"District_Key\"] = \"\"\n",
    "for st in set(df_covid[\"State\"]):\n",
    "    df_covid.loc[df_covid[\"State\"] == st, \"State_Code\"] = state_code[st]\n",
    "    for dis in set(df_covid[df_covid[\"State\"] == st][\"District\"]):\n",
    "        df_covid.loc[((df_covid[\"State\"] == st) & (df_covid[\"District\"] == dis)), \"District_Key\"] = state_code[st] + str(\"_\") + dis"
   ]
  },
  {
   "cell_type": "markdown",
   "metadata": {},
   "source": [
    "#Putting only data upto '2021-08-14'"
   ]
  },
  {
   "cell_type": "markdown",
   "metadata": {},
   "source": [
    "Removing unnecessary features"
   ]
  },
  {
   "cell_type": "code",
   "execution_count": 4,
   "metadata": {},
   "outputs": [],
   "source": [
    "df_covid = df_covid.loc[:, [\"Date\", \"District_Key\", \"State_Code\", \"Confirmed\"]]"
   ]
  },
  {
   "cell_type": "markdown",
   "metadata": {},
   "source": [
    "**unique_district** : Unique District from covid dataset\n",
    "<br>\n",
    "**unique_state** : Unique State from covid dataset"
   ]
  },
  {
   "cell_type": "code",
   "execution_count": 5,
   "metadata": {},
   "outputs": [],
   "source": [
    "unique_district = set(df_covid[\"District_Key\"])\n",
    "unique_state = set(df_covid[\"State_Code\"])"
   ]
  },
  {
   "cell_type": "markdown",
   "metadata": {},
   "source": [
    "**date_range** is storing all the dates from 15 March 2020 to 14 August 2021"
   ]
  },
  {
   "cell_type": "code",
   "execution_count": 6,
   "metadata": {},
   "outputs": [],
   "source": [
    "date_range = set([str(x)[:-9] for x in pd.date_range(start=\"2020-03-15\", end=\"2021-08-14\")])"
   ]
  },
  {
   "cell_type": "markdown",
   "metadata": {},
   "source": [
    "#### Adding New Entry\n",
    "Our Covid Dataset provides information from 26 April 2020 and for some district it has entry from latter dates.\n",
    "<br>\n",
    "In below cell we are adding new row for each and every district for which no record present in dataset.\n",
    "<br>\n",
    "date_diff :  it will store the dates for which no record is present\n"
   ]
  },
  {
   "cell_type": "code",
   "execution_count": 7,
   "metadata": {},
   "outputs": [
    {
     "name": "stderr",
     "output_type": "stream",
     "text": [
      "C:\\Anaconda3\\lib\\site-packages\\ipykernel_launcher.py:22: FutureWarning: Sorting because non-concatenation axis is not aligned. A future version\n",
      "of pandas will change to not sort by default.\n",
      "\n",
      "To accept the future behavior, pass 'sort=False'.\n",
      "\n",
      "To retain the current behavior and silence the warning, pass 'sort=True'.\n",
      "\n"
     ]
    }
   ],
   "source": [
    "for dis in set(df_covid[\"District_Key\"]):\n",
    "    \n",
    "    date_in_covid_file = list(df_covid[df_covid[\"District_Key\"] == dis][\"Date\"])\n",
    "        \n",
    "    date_diff = []\n",
    "   \n",
    "    #Finding the date not present in covid dataset for district dis\n",
    "    for d in date_range:\n",
    "        if d not in date_in_covid_file:\n",
    "            date_diff.append(d)\n",
    "                \n",
    "    n = len(date_diff)\n",
    "    state_code = list(df_covid[df_covid[\"District_Key\"] == dis][\"State_Code\"])[0]\n",
    "    \n",
    "    # Storing value for date which is not in dataset\n",
    "    dist = {\"Date\" : date_diff,\n",
    "           \"Confirmed\" : [0] * n,\n",
    "            \"State_Code\" : [state_code] * n,\n",
    "            \"District_Key\" : [dis] * n}\n",
    "        \n",
    "    df = pd.DataFrame(dist)\n",
    "    df_covid = pd.concat([df_covid, df], ignore_index=True)\n",
    "    df_covid.reset_index()\n",
    "    \n",
    "df_covid = df_covid.sort_values(by = [\"Date\", \"District_Key\"])"
   ]
  },
  {
   "cell_type": "markdown",
   "metadata": {},
   "source": [
    "Since our dataset ahs cumullative reocrds we need to find exact data for that day\n",
    "<br>\n",
    "<br>\n",
    "**modified_df_covid** : This DataFrame will stores all the record in non cummulative formate for each date in date_range and for each and every district"
   ]
  },
  {
   "cell_type": "code",
   "execution_count": 8,
   "metadata": {},
   "outputs": [],
   "source": [
    "dic = {}\n",
    "\n",
    "dic[\"Date\"] = []\n",
    "dic[\"Confirmed\"] = []\n",
    "dic[\"State_Code\"] = []\n",
    "dic[\"District_Key\"] = []\n",
    "\n",
    "modified_df_covid = pd.DataFrame(dic)"
   ]
  },
  {
   "cell_type": "markdown",
   "metadata": {},
   "source": [
    "Bellow cell is used to fill **modified_df_covid** "
   ]
  },
  {
   "cell_type": "markdown",
   "metadata": {},
   "source": [
    "**data[i] = cummulative_data[i] - cummulative_data[i-1**"
   ]
  },
  {
   "cell_type": "code",
   "execution_count": 9,
   "metadata": {},
   "outputs": [],
   "source": [
    "columns = df_covid.columns\n",
    "index = list(columns).index(\"Confirmed\")\n",
    "for dis in set(df_covid[\"District_Key\"]):\n",
    "        \n",
    "    distriict = np.array(df_covid[df_covid[\"District_Key\"] == dis])\n",
    "    l1 = []\n",
    "    l1.append(distriict[0])\n",
    "    for i in range(1, len(distriict)):\n",
    "        l2 = []\n",
    "        for j in  range(4):\n",
    "            if j == index:\n",
    "                \n",
    "                l2.append(0 if (distriict[i][j] - distriict[i-1][j]) < 0 else distriict[i][j] - distriict[i-1][j])\n",
    "                \n",
    "            else:\n",
    "                \n",
    "                l2.append(distriict[i][j])\n",
    "                \n",
    "        l1.append(l2)\n",
    "    df = pd.DataFrame(l1, columns = list(df_covid.columns))\n",
    "    modified_df_covid = pd.concat([modified_df_covid, df], ignore_index=True)\n",
    "    modified_df_covid.reset_index()\n",
    "modified_df_covid.sort_values(by=[\"Date\", \"District_Key\"], inplace=True)   "
   ]
  },
  {
   "cell_type": "markdown",
   "metadata": {},
   "source": [
    "### District Weekly cases "
   ]
  },
  {
   "cell_type": "code",
   "execution_count": 10,
   "metadata": {},
   "outputs": [],
   "source": [
    "weekly_cases_list = []\n",
    "weekly_cases_overlaped_list = []\n",
    "\n",
    "for dis in set(modified_df_covid[\"District_Key\"]):\n",
    "    \n",
    "    #initiating value of day and week id\n",
    "    i = 0     #day starting from Sunday\n",
    "    j = 4     #day starting from Thrusday\n",
    "    time_id =  1     #Week id\n",
    "    time_id_overlaped = 1\n",
    "    \n",
    "    #df will store just the dataframe only for single district to speed up\n",
    "    df = np.array(modified_df_covid[modified_df_covid[\"District_Key\"] == dis][\"Confirmed\"])\n",
    "    \n",
    "    while i < len(date_range):\n",
    "        \n",
    "        #Adding the confirmed cased for a week\n",
    "        cases = np.sum(df[i : i + 7])\n",
    "        weekly_cases_list.append([dis, time_id, cases])\n",
    "        weekly_cases_overlaped_list.append([dis, time_id_overlaped, cases])\n",
    "        \n",
    "        #increasing the week Id by 1\n",
    "        time_id = time_id + 1\n",
    "        time_id_overlaped = time_id_overlaped + 1\n",
    "        \n",
    "        #Increasing the date by 7\n",
    "        i = i + 7\n",
    "        \n",
    "        #Storing weekly cases starting from Thrusday\n",
    "        cases = np.sum(df[j : j + 7])\n",
    "        \n",
    "        weekly_cases_overlaped_list.append([dis, time_id_overlaped, cases])\n",
    "        \n",
    "        time_id_overlaped = time_id_overlaped + 1\n",
    "\n",
    "        j = j + 7\n",
    "        \n",
    "            \n",
    "weekly_cases_df = pd.DataFrame(weekly_cases_list, columns=[\"districtid\", \"timeid\", \"cases\"])\n",
    "weekly_cases_df.sort_values(by=[\"districtid\", \"timeid\"], inplace=True)\n",
    "\n",
    "weekly_cases_overlap_df = pd.DataFrame(weekly_cases_overlaped_list, columns=[\"districtid\", \"timeid\", \"cases\"])\n",
    "weekly_cases_overlap_df.sort_values(by=[\"districtid\", \"timeid\"], inplace=True)"
   ]
  },
  {
   "cell_type": "markdown",
   "metadata": {},
   "source": [
    "### District Monthly Cases"
   ]
  },
  {
   "cell_type": "markdown",
   "metadata": {},
   "source": [
    "**month_wise_date** : Store the starting and ending of each month from 15 march 2020 to 14 august 2021"
   ]
  },
  {
   "cell_type": "code",
   "execution_count": 11,
   "metadata": {},
   "outputs": [],
   "source": [
    "month_wise_date = [[\"2020-03-15\", \"2020-04-14\"], \n",
    "                  [\"2020-04-15\", \"2020-05-14\"], \n",
    "                   [\"2020-05-15\", \"2020-06-14\"],\n",
    "                  [\"2020-06-15\", \"2020-07-14\"],\n",
    "                  [\"2020-07-15\", \"2020-08-14\"],\n",
    "                  [\"2020-08-15\", \"2020-09-14\"],\n",
    "                  [\"2020-09-15\", \"2020-10-14\"],\n",
    "                  [\"2020-10-15\", \"2020-11-14\"],\n",
    "                  [\"2020-11-15\", \"2020-12-14\"],\n",
    "                  [\"2020-12-15\", \"2021-01-14\"],\n",
    "                  [\"2021-01-15\", \"2021-02-14\"],\n",
    "                  [\"2021-02-15\", \"2021-03-14\"],\n",
    "                  [\"2021-03-15\", \"2021-04-14\"],\n",
    "                  [\"2021-04-15\", \"2021-05-14\"],\n",
    "                  [\"2021-05-15\", \"2021-06-14\"],\n",
    "                  [\"2021-06-15\", \"2021-07-14\"],\n",
    "                  [\"2021-07-15\", \"2021-08-14\"]]"
   ]
  },
  {
   "cell_type": "code",
   "execution_count": 12,
   "metadata": {},
   "outputs": [],
   "source": [
    "monthly_cases_list = []\n",
    "\n",
    "for dis in set(modified_df_covid[\"District_Key\"]):\n",
    "    \n",
    "    #Initiating month id  to 1\n",
    "    time_id = 1\n",
    "    #df store the dataframe for single district\n",
    "    df = modified_df_covid[modified_df_covid[\"District_Key\"] == dis]\n",
    "    #Looping over all month from month_wise_date\n",
    "    for i in range(len(month_wise_date)):\n",
    "        \n",
    "        start = month_wise_date[i][0]   #Starting date\n",
    "        end = month_wise_date[i][1]       #ending date\n",
    "        period = df.Date.between(start, end)   #Period = Ending date - starting data +1 \n",
    "        \n",
    "        #Summning over period to find the number of cases in month\n",
    "        cases = np.sum(df[period][\"Confirmed\"])\n",
    "\n",
    "        monthly_cases_list.append([dis, time_id, cases])\n",
    "        #increasing timeid by 1\n",
    "        time_id = time_id + 1\n",
    "\n",
    "monthly_cases_df = pd.DataFrame(monthly_cases_list, columns=[\"districtid\", \"timeid\", \"cases\"])\n",
    "monthly_cases_df.sort_values(by = [\"districtid\", \"timeid\"], inplace=True)"
   ]
  },
  {
   "cell_type": "markdown",
   "metadata": {},
   "source": [
    "### District Overall Cases"
   ]
  },
  {
   "cell_type": "markdown",
   "metadata": {},
   "source": [
    "Storing overall number of cases for each district "
   ]
  },
  {
   "cell_type": "code",
   "execution_count": 13,
   "metadata": {},
   "outputs": [],
   "source": [
    "overall_cases_list = []\n",
    "\n",
    "for dis in set(monthly_cases_df[\"districtid\"]):\n",
    "    time_id = 1\n",
    "    df = monthly_cases_df[((monthly_cases_df[\"districtid\"] == dis))]\n",
    "    cases = sum(list(df[\"cases\"]))\n",
    "    overall_cases_list.append([dis,1, cases])\n",
    "overall_cases_df = pd.DataFrame(overall_cases_list, columns=[\"districtid\",\"timeid\", \"cases\"])\n",
    "overall_cases_df.sort_values(by = [\"districtid\"], inplace=True)"
   ]
  },
  {
   "cell_type": "markdown",
   "metadata": {},
   "source": [
    "### Storing the final result for district"
   ]
  },
  {
   "cell_type": "markdown",
   "metadata": {},
   "source": [
    "**weekly_cases_df** : District wise weekly cases\n",
    "<br>\n",
    "**monthly_cases_df**  : District monthly cases\n",
    "<br>\n",
    "**overall_cases_df**  : District wise Overall cases"
   ]
  },
  {
   "cell_type": "code",
   "execution_count": 14,
   "metadata": {},
   "outputs": [],
   "source": [
    "weekly_cases_df.to_csv(\"Dataset/Output Files/cases-week.csv\", index=False)\n",
    "monthly_cases_df.to_csv(\"Dataset/Output Files/cases-month.csv\", index=False)\n",
    "overall_cases_df.to_csv(\"Dataset/Output Files/cases-overall.csv\", index = False)"
   ]
  },
  {
   "cell_type": "markdown",
   "metadata": {},
   "source": [
    "## Finding Weekly and Monthly cases for States and Country for Question 4"
   ]
  },
  {
   "cell_type": "markdown",
   "metadata": {},
   "source": [
    "### Storing Cases state wise"
   ]
  },
  {
   "cell_type": "markdown",
   "metadata": {},
   "source": [
    "**covid_state** will store datewise cases for every state"
   ]
  },
  {
   "cell_type": "code",
   "execution_count": 15,
   "metadata": {},
   "outputs": [],
   "source": [
    "cases = []\n",
    "for state in unique_state:\n",
    "    df = modified_df_covid[modified_df_covid[\"State_Code\"] == state]\n",
    "    for date in date_range:\n",
    "        case = np.sum(df[df[\"Date\"] == date][\"Confirmed\"])\n",
    "        cases.append([state, date, case])\n",
    "        \n",
    "covid_state = pd.DataFrame(cases, columns=[\"State_Code\", \"Date\", \"Confirmed\"])\n",
    "covid_state.sort_values(by = [\"State_Code\", \"Date\"], inplace = True)"
   ]
  },
  {
   "cell_type": "markdown",
   "metadata": {},
   "source": [
    "### State wise weekly"
   ]
  },
  {
   "cell_type": "code",
   "execution_count": 16,
   "metadata": {},
   "outputs": [],
   "source": [
    "state_weekly_cases_list = []\n",
    "for state in unique_state:\n",
    "    i = 0\n",
    "    j = 4\n",
    "    time_id = 1\n",
    "    \n",
    "    df = covid_state[covid_state[\"State_Code\"] == state]\n",
    "    while i < len(date_range):\n",
    "\n",
    "        cases = np.sum(df.iloc[i : i + 7][\"Confirmed\"])\n",
    "        week = \"week \" + str(time_id)\n",
    "        state_weekly_cases_list.append([state, time_id, cases])\n",
    "        \n",
    "        time_id = time_id + 1\n",
    "        \n",
    "        i = i + 7\n",
    "        \n",
    "        cases = np.sum(df.iloc[j : j + 7][\"Confirmed\"])\n",
    "        \n",
    "        state_weekly_cases_list.append([state, time_id, cases])\n",
    "        \n",
    "        time_id = time_id + 1\n",
    "        \n",
    "        j = j + 7\n",
    "        \n",
    "        \n",
    "state_weekly_cases_df = pd.DataFrame(state_weekly_cases_list, columns=[\"stateid\", \"timeid\", \"cases\"])\n",
    "state_weekly_cases_df.sort_values(by=[\"stateid\", \"timeid\"], inplace=True)"
   ]
  },
  {
   "cell_type": "markdown",
   "metadata": {},
   "source": [
    "### State wise monthly"
   ]
  },
  {
   "cell_type": "code",
   "execution_count": 17,
   "metadata": {},
   "outputs": [],
   "source": [
    "state_monthly_cases_list = []\n",
    "for state in unique_state:\n",
    "\n",
    "    time_id = 1\n",
    " \n",
    "    df = covid_state[covid_state[\"State_Code\"] == state]\n",
    "\n",
    "    for i in range(len(month_wise_date)):\n",
    "        \n",
    "        start = month_wise_date[i][0]\n",
    "        end = month_wise_date[i][1]       \n",
    "        period = df.Date.between(start, end)\n",
    "        \n",
    "        cases = np.sum(df[period][\"Confirmed\"])\n",
    "\n",
    "        state_monthly_cases_list.append([state, time_id, cases])\n",
    "        \n",
    "        time_id = time_id + 1\n",
    "state_monthly_cases_df = pd.DataFrame(state_monthly_cases_list, columns=[\"stateid\", \"timeid\", \"cases\"])\n",
    "state_monthly_cases_df.sort_values(by=[\"stateid\", \"timeid\"], inplace=True)"
   ]
  },
  {
   "cell_type": "markdown",
   "metadata": {},
   "source": [
    "### Storing cases at country level"
   ]
  },
  {
   "cell_type": "code",
   "execution_count": 18,
   "metadata": {},
   "outputs": [],
   "source": [
    "cases = []\n",
    "for date in date_range:\n",
    "    case = np.sum(modified_df_covid[modified_df_covid[\"Date\"] == date][\"Confirmed\"])\n",
    "    cases.append([date,case])\n",
    "df = pd.DataFrame(cases, columns=[\"Date\", \"Confirmed\"])\n",
    "df.sort_values(by = [\"Date\"], inplace=True)"
   ]
  },
  {
   "cell_type": "markdown",
   "metadata": {},
   "source": [
    "### Weekly cases at country level"
   ]
  },
  {
   "cell_type": "code",
   "execution_count": 19,
   "metadata": {},
   "outputs": [],
   "source": [
    "country_weekly_cases_list = []\n",
    "\n",
    "i = 0\n",
    "j = 4\n",
    "time_id = 1\n",
    "\n",
    "\n",
    "while i < len(date_range):\n",
    "\n",
    "    cases = np.sum(df.iloc[i : i + 7][\"Confirmed\"])\n",
    "        \n",
    "    country_weekly_cases_list.append([\"India\", time_id, cases])\n",
    "        \n",
    "    time_id = time_id + 1\n",
    "        \n",
    "    i = i + 7\n",
    "    \n",
    "    cases = np.sum(df.iloc[j : j + 7][\"Confirmed\"])\n",
    "        \n",
    "    country_weekly_cases_list.append([\"India\", time_id, int(cases)])\n",
    "        \n",
    "    time_id = time_id + 1\n",
    "        \n",
    "    j = j + 7\n",
    "    \n",
    "counrty_weekly_cases_df = pd.DataFrame(country_weekly_cases_list, columns= [\"counrty\", \"timeid\", \"cases\"])\n",
    "counrty_weekly_cases_df.sort_values(by = [\"timeid\"], inplace=True)"
   ]
  },
  {
   "cell_type": "markdown",
   "metadata": {},
   "source": [
    "### Monthly Cases at Country Level"
   ]
  },
  {
   "cell_type": "code",
   "execution_count": 20,
   "metadata": {},
   "outputs": [],
   "source": [
    "country_monthly_cases_list = []\n",
    "\n",
    "time_id = 1\n",
    "    \n",
    "for i in range(len(month_wise_date)):\n",
    "        \n",
    "    start = month_wise_date[i][0]\n",
    "    end = month_wise_date[i][1]       \n",
    "    period = df.Date.between(start, end)\n",
    "        \n",
    "    cases = np.sum(df[period][\"Confirmed\"])\n",
    "\n",
    "    country_monthly_cases_list.append([\"India\", time_id, cases])\n",
    "        \n",
    "    time_id = time_id + 1\n",
    "\n",
    "counrty_monthly_cases_df = pd.DataFrame(country_monthly_cases_list, columns= [\"counrty\", \"timeid\", \"cases\"])\n",
    "counrty_monthly_cases_df.sort_values(by = [\"timeid\"], inplace=True)"
   ]
  },
  {
   "cell_type": "markdown",
   "metadata": {},
   "source": [
    "### Storing the results in data frame"
   ]
  },
  {
   "cell_type": "code",
   "execution_count": 21,
   "metadata": {},
   "outputs": [],
   "source": [
    "weekly_cases_overlap_df.to_csv(\"Dataset/Additional Files/cases-week-overlaped-district.csv\", index = False)"
   ]
  },
  {
   "cell_type": "code",
   "execution_count": 22,
   "metadata": {},
   "outputs": [],
   "source": [
    "state_weekly_cases_df.to_csv(\"Dataset/Additional Files/cases-week-overlap-state.csv\", index=False)\n",
    "state_monthly_cases_df.to_csv(\"Dataset/Additional Files/cases-month-state.csv\", index=False)"
   ]
  },
  {
   "cell_type": "code",
   "execution_count": 23,
   "metadata": {},
   "outputs": [],
   "source": [
    "counrty_weekly_cases_df.to_csv(\"Dataset/Additional Files/cases-week-overlap-overall.csv\", index=False)\n",
    "counrty_monthly_cases_df.to_csv(\"Dataset/Additional Files/cases-month-overall.csv\", index=False)"
   ]
  }
 ],
 "metadata": {
  "kernelspec": {
   "display_name": "Python 3",
   "language": "python",
   "name": "python3"
  },
  "language_info": {
   "codemirror_mode": {
    "name": "ipython",
    "version": 3
   },
   "file_extension": ".py",
   "mimetype": "text/x-python",
   "name": "python",
   "nbconvert_exporter": "python",
   "pygments_lexer": "ipython3",
   "version": "3.5.6"
  }
 },
 "nbformat": 4,
 "nbformat_minor": 2
}
